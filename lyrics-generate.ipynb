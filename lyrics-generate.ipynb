{
 "cells": [
  {
   "cell_type": "code",
   "execution_count": 1,
   "metadata": {},
   "outputs": [],
   "source": [
    "# Character level lyrics generation using RNNs (LSTM)\n",
    "import sys, os, random, string\n",
    "import pandas as pd\n",
    "import numpy as np\n",
    "import torch\n",
    "import torch.nn as nn\n",
    "import matplotlib.pyplot as plt\n",
    "import string\n",
    "\n",
    "import CharlyricsDataset\n",
    "import glob\n",
    "\n",
    "# ignore warnings\n",
    "import warnings\n",
    "warnings.filterwarnings(\"ignore\")\n",
    "\n",
    "# interactive mode\n",
    "plt.ion()\n",
    "\n",
    "from pathlib import Path\n",
    "from config import config\n",
    "import utils\n",
    "\n",
    "%load_ext autoreload\n",
    "%autoreload 2"
   ]
  },
  {
   "cell_type": "code",
   "execution_count": 2,
   "metadata": {},
   "outputs": [],
   "source": [
    "device = torch.device(\"cuda\" if torch.cuda.is_available() else \"cpu\")"
   ]
  },
  {
   "cell_type": "code",
   "execution_count": 3,
   "metadata": {},
   "outputs": [],
   "source": [
    "train_dataset = CharlyricsDataset.CharLyricsDataset(config.DATA.LYRICS, config.TRAIN.MAX_LEN)\n",
    "train_loader = torch.utils.data.DataLoader(\n",
    "    train_dataset,\n",
    "    batch_size=config.TRAIN.BATCH_SIZE,\n",
    "    shuffle=False,\n",
    "    drop_last=True,\n",
    "    num_workers=1\n",
    ")"
   ]
  },
  {
   "cell_type": "code",
   "execution_count": 4,
   "metadata": {},
   "outputs": [],
   "source": [
    "for _, batch in enumerate(train_loader):\n",
    "    break"
   ]
  },
  {
   "cell_type": "code",
   "execution_count": 5,
   "metadata": {},
   "outputs": [
    {
     "output_type": "execute_result",
     "data": {
      "text/plain": "tensor([[36, 23, 24, 29, 17, 14, 27, 94, 24, 23, 14, 96, 58, 14, 94, 55, 17, 14,\n         94, 37, 14, 28, 29, 94, 22, 30, 28, 18, 12, 96, 39, 45, 94, 46, 17, 10,\n         21, 14, 13, 94, 44, 94, 13, 24, 23, 68, 29, 94, 20, 23, 24, 32, 94, 18,\n         15, 94, 34, 24, 30, 94, 12, 24, 30, 21, 13, 94, 29, 10, 20, 14, 94, 18,\n         29, 96, 46, 23, 24, 32, 94, 34, 24, 30, 94, 32, 10, 23, 23, 10, 94, 28,\n         14, 14, 94, 22, 14, 94, 23, 10, 20],\n        [34, 73, 94, 23, 10, 20, 14, 34, 73, 94, 23, 10, 20, 14, 13, 96, 44, 94,\n         32, 10, 23, 23, 10, 94, 11, 14, 94, 34, 24, 30, 27, 94, 11, 10, 11, 34,\n         73, 94, 11, 10, 11, 34, 73, 94, 11, 10, 11, 34, 96, 54, 25, 18, 23, 23,\n         18, 23, 16, 94, 10, 23, 13, 94, 18, 29, 68, 28, 94, 32, 14, 29, 94, 19,\n         30, 28, 29, 94, 21, 18, 20, 14, 94, 18, 29, 94, 12, 10, 22, 14, 94, 15,\n         27, 24, 22, 94, 48, 10, 34, 29, 10],\n        [96, 58, 17, 18, 29, 14, 94, 16, 18, 27, 21, 94, 32, 10, 28, 29, 14, 13,\n         94, 24, 23, 94, 29, 17, 10, 29, 94, 11, 27, 24, 32, 23, 94, 21, 18, 26,\n         30, 24, 27, 96, 58, 17, 14, 23, 94, 44, 94, 16, 14, 29, 94, 21, 18, 20,\n         14, 94, 29, 17, 18, 28, 94, 44, 94, 12, 10, 23, 68, 29, 94, 11, 14, 94,\n         10, 27, 24, 30, 23, 13, 94, 34, 24, 30, 96, 44, 68, 22, 94, 29, 24, 24,\n         94, 21, 18, 29, 94, 29, 24, 94, 13]])"
     },
     "metadata": {},
     "execution_count": 5
    }
   ],
   "source": [
    "input_seq, output_seq = batch\n",
    "input_seq"
   ]
  },
  {
   "cell_type": "code",
   "execution_count": 12,
   "metadata": {},
   "outputs": [
    {
     "output_type": "execute_result",
     "data": {
      "text/plain": "[Parameter containing:\n tensor([[ 0.3157, -0.2701,  0.0795, -1.1877,  1.1015],\n         [ 0.7235, -0.7287,  2.1764, -0.8754, -0.7668],\n         [-0.2250,  0.6618,  0.0085, -2.2840, -0.2160],\n         [ 1.3705,  1.2959, -0.2789, -1.5699,  2.0564],\n         [ 1.3121,  0.9066,  0.8960, -0.5014, -1.9074],\n         [-0.9655,  0.5891, -0.1879, -0.6911,  0.1090],\n         [ 2.7088,  0.1518,  0.0537, -0.4444,  1.2873],\n         [-0.1258,  1.0825, -0.0144, -0.5162, -0.1003],\n         [ 0.5440, -0.3939,  0.6933,  0.6061,  1.1411],\n         [-0.9583, -0.7192,  0.4654,  1.5384, -0.5878]], requires_grad=True)]"
     },
     "metadata": {},
     "execution_count": 12
    }
   ],
   "source": [
    "embed = torch.nn.Embedding(10,5)\n",
    "list(embed.parameters())"
   ]
  },
  {
   "cell_type": "code",
   "execution_count": null,
   "metadata": {},
   "outputs": [],
   "source": []
  }
 ],
 "metadata": {
  "language_info": {
   "codemirror_mode": {
    "name": "ipython",
    "version": 2
   },
   "file_extension": ".py",
   "mimetype": "text/x-python",
   "name": "python",
   "nbconvert_exporter": "python",
   "pygments_lexer": "ipython2",
   "version": "3.6.9-final"
  },
  "orig_nbformat": 2,
  "kernelspec": {
   "name": "python3",
   "display_name": "Python 3"
  }
 },
 "nbformat": 4,
 "nbformat_minor": 2
}