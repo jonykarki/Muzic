{
 "cells": [
  {
   "cell_type": "code",
   "execution_count": 5,
   "metadata": {},
   "outputs": [],
   "source": [
    "# Character level lyrics generation using RNNs (LSTM)\n",
    "import sys, os, random, string\n",
    "import pandas as pd\n",
    "import numpy as np\n",
    "import torch as t \n",
    "import torch.nn as nn\n",
    "import matplotlib.pyplot as plt\n",
    "import string\n",
    "\n",
    "from CharlyricsDataset import CharLyricsDataset\n",
    "import glob\n",
    "\n",
    "# ignore warnings\n",
    "import warnings\n",
    "warnings.filterwarnings(\"ignore\")\n",
    "\n",
    "# interactive mode\n",
    "plt.ion()"
   ]
  },
  {
   "cell_type": "code",
   "execution_count": 6,
   "metadata": {},
   "outputs": [],
   "source": [
    "from pathlib import Path\n",
    "from config import config"
   ]
  },
  {
   "cell_type": "code",
   "execution_count": 7,
   "metadata": {},
   "outputs": [],
   "source": [
    "MAX_LEN = 100\n",
    "ALL_CHARACTERS = string.printable\n",
    "TOTAL_CHARACTERS = len(ALL_CHARACTERS)"
   ]
  },
  {
   "cell_type": "code",
   "execution_count": 8,
   "metadata": {},
   "outputs": [],
   "source": [
    "def char_to_label(c_string):\n",
    "    return map(lambda c: ALL_CHARACTERS.find(c), c_string)"
   ]
  },
  {
   "cell_type": "code",
   "execution_count": 9,
   "metadata": {},
   "outputs": [
    {
     "output_type": "stream",
     "name": "stdout",
     "text": "[43, 14, 21, 21, 24]\n"
    }
   ],
   "source": [
    "print(list(char_to_label(\"Hello\")))"
   ]
  },
  {
   "cell_type": "code",
   "execution_count": 10,
   "metadata": {},
   "outputs": [],
   "source": [
    "train_dataset = CharLyricsDataset(config.DATA.LYRICS)\n",
    "train_loader = t.utils.data.DataLoader(\n",
    "    train_dataset,\n",
    "    batch_size=config.TRAIN.BATCH_SIZE,\n",
    "    shuffle=True,\n",
    "    num_workers=4\n",
    ")"
   ]
  },
  {
   "cell_type": "code",
   "execution_count": 11,
   "metadata": {},
   "outputs": [
    {
     "output_type": "stream",
     "name": "stdout",
     "text": "['Ludacris', 'Joni Mitchell', 'Kanye', 'Lil Wayne', 'Lin Manuel Miranda', 'Dolly Parton', 'Radiohead', 'Paul Simon', 'Amy Winehouse', 'Dj Khaled', 'Blink 182', 'Notorious Big', 'Michael Jackson', 'Lorde', 'Disney', 'Kanye West', 'Nickelback', 'Bieber', 'Dickinson', 'Bjork', 'Kanye West', 'Lil Wayne', 'Drake', 'Eminem', 'Janisjoplin', 'Cake', 'Notorious Big', 'Adele', 'Dr Seuss', 'Johnny Cash', 'Bob Marley', 'Nirvana']\n['Bruno Mars', 'Nicki Minaj', 'Alicia Keys', 'Prince', 'Lady Gaga', 'Bruce Springsteen', 'Jimi Hendrix', 'R Kelly', 'Al Green', 'Beatles', 'Patti Smith', 'Rihanna', 'Bob Dylan', 'Leonard Cohen', 'Missy Elliott', 'Nursery Rhymes', 'Britney Spears']\n"
    }
   ],
   "source": [
    "for _, batch in enumerate(train_loader):\n",
    "    print(batch)"
   ]
  },
  {
   "cell_type": "code",
   "execution_count": null,
   "metadata": {},
   "outputs": [],
   "source": []
  }
 ],
 "metadata": {
  "language_info": {
   "codemirror_mode": {
    "name": "ipython",
    "version": 2
   },
   "file_extension": ".py",
   "mimetype": "text/x-python",
   "name": "python",
   "nbconvert_exporter": "python",
   "pygments_lexer": "ipython2",
   "version": "3.6.9-final"
  },
  "orig_nbformat": 2,
  "kernelspec": {
   "name": "python3",
   "display_name": "Python 3"
  }
 },
 "nbformat": 4,
 "nbformat_minor": 2
}