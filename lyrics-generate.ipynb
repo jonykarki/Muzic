{
 "cells": [
  {
   "cell_type": "code",
   "execution_count": 1,
   "metadata": {},
   "outputs": [],
   "source": [
    "# Character level lyrics generation using RNNs (LSTM)\n",
    "import sys, os, random, string\n",
    "import pandas as pd\n",
    "import numpy as np\n",
    "import torch\n",
    "import torch.nn as nn\n",
    "import matplotlib.pyplot as plt\n",
    "import string\n",
    "\n",
    "import CharlyricsDataset\n",
    "import glob\n",
    "\n",
    "# ignore warnings\n",
    "import warnings\n",
    "warnings.filterwarnings(\"ignore\")\n",
    "\n",
    "# interactive mode\n",
    "plt.ion()\n",
    "\n",
    "from pathlib import Path\n",
    "from config import config\n",
    "import utils\n",
    "\n",
    "%load_ext autoreload\n",
    "%autoreload 2"
   ]
  },
  {
   "cell_type": "code",
   "execution_count": 2,
   "metadata": {},
   "outputs": [],
   "source": [
    "train_dataset = CharlyricsDataset.CharLyricsDataset(config.DATA.LYRICS)\n",
    "train_loader = torch.utils.data.DataLoader(\n",
    "    train_dataset,\n",
    "    batch_size=config.TRAIN.BATCH_SIZE,\n",
    "    shuffle=False,\n",
    "    drop_last=True,\n",
    "    num_workers=1\n",
    ")"
   ]
  },
  {
   "cell_type": "code",
   "execution_count": 3,
   "metadata": {},
   "outputs": [
    {
     "output_type": "stream",
     "name": "stdout",
     "text": "tensor([[38, 10, 23, 94, 32, 14, 94, 15, 24, 27, 16, 14, 29, 94, 10, 11, 24, 30,\n         29, 94, 29, 17, 14, 94, 29, 17, 18, 23, 16, 28, 94, 44, 94, 28, 10, 18,\n         13, 94, 32, 17, 14, 23, 94, 44, 94, 32, 10, 28, 94, 13, 27, 30, 23, 20,\n         75, 75, 75, 96, 44, 94, 13, 18, 13, 23, 68, 29, 94, 22, 14, 10, 23, 94,\n         29, 24, 94, 12, 10, 21, 21, 94, 34, 24, 30, 94, 29, 17, 10, 29, 96, 44,\n         94, 12, 10, 23, 68, 29, 94, 27, 14, 22],\n        [14, 22, 11, 14, 27, 94, 32, 17, 10, 29, 94, 32, 10, 28, 94, 28, 10, 18,\n         13, 96, 50, 27, 94, 32, 17, 10, 29, 94, 34, 24, 30, 94, 29, 17, 27, 14,\n         32, 94, 10, 29, 94, 22, 14, 94, 51, 21, 14, 10, 28, 14, 94, 29, 14, 21,\n         21, 94, 22, 14, 96, 51, 21, 14, 10, 28, 14, 94, 29, 14, 21, 21, 94, 22,\n         14, 94, 32, 17, 34, 96, 48, 34, 94, 12, 10, 27, 94, 18, 28, 94, 18, 23,\n         94, 29, 17, 14, 94, 15, 27, 24, 23, 29],\n        [94, 34, 10, 27, 13, 96, 36, 23, 13, 94, 44, 94, 10, 22, 94, 28, 21, 14,\n         14, 25, 18, 23, 16, 94, 32, 18, 29, 17, 94, 22, 34, 94, 12, 21, 24, 29,\n         17, 28, 94, 24, 23, 96, 44, 94, 12, 10, 22, 14, 94, 18, 23, 94, 29, 17,\n         27, 24, 30, 16, 17, 29, 94, 29, 17, 14, 94, 32, 18, 23, 13, 24, 32, 75,\n         75, 75, 94, 47, 10, 28, 29, 94, 23, 18, 16, 17, 29, 96, 36, 23, 13, 94,\n         34, 24, 30, 27, 75, 75, 75, 94, 42, 24]])\n\n"
    }
   ],
   "source": [
    "for _, batch in enumerate(train_loader):\n",
    "    print(batch)\n",
    "    print()\n",
    "    break"
   ]
  },
  {
   "cell_type": "code",
   "execution_count": null,
   "metadata": {},
   "outputs": [],
   "source": []
  }
 ],
 "metadata": {
  "language_info": {
   "codemirror_mode": {
    "name": "ipython",
    "version": 2
   },
   "file_extension": ".py",
   "mimetype": "text/x-python",
   "name": "python",
   "nbconvert_exporter": "python",
   "pygments_lexer": "ipython2",
   "version": "3.6.9-final"
  },
  "orig_nbformat": 2,
  "kernelspec": {
   "name": "python3",
   "display_name": "Python 3"
  }
 },
 "nbformat": 4,
 "nbformat_minor": 2
}